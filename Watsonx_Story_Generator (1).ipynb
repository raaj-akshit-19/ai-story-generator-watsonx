{
  "cells": [
    {
      "cell_type": "code",
      "execution_count": null,
      "metadata": {},
      "outputs": [],
      "source": [
        "!pip install --upgrade \"ibm-watson-machine-learning>=1.0.310\" | tail -n 1"
      ]
    },
    {
      "cell_type": "code",
      "execution_count": null,
      "metadata": {},
      "outputs": [],
      "source": [
        "credentials = {\n",
        "    \"url\": \"https://us-south.ml.cloud.ibm.com\",\n",
        "    \"apikey\": \"se1cIzHrq3IRTo5G98rl8d-biJxg6WwgZ6fh_HbM4jda\"\n",
        "}\n",
        "project_id = \"39f9e1ef-1cc7-4c01-be80-c694258c61cd\""
      ]
    },
    {
      "cell_type": "code",
      "execution_count": null,
      "metadata": {},
      "outputs": [],
      "source": [
        "model_id = \"meta-llama/llama-3-3-70b-instruct\""
      ]
    },
    {
      "cell_type": "code",
      "execution_count": null,
      "metadata": {},
      "outputs": [],
      "source": [
        "from ibm_watson_machine_learning.metanames import GenTextParamsMetaNames as GenParams\n",
        "parameters = {\n",
        "    GenParams.DECODING_METHOD: \"sample\",\n",
        "    GenParams.MIN_NEW_TOKENS: 500,\n",
        "    GenParams.MAX_NEW_TOKENS: 800,\n",
        "    GenParams.TEMPERATURE: 0.85,\n",
        "    GenParams.TOP_P: 0.9,\n",
        "    GenParams.REPETITION_PENALTY: 1.1\n",
        "}"
      ]
    },
    {
      "cell_type": "code",
      "execution_count": null,
      "metadata": {},
      "outputs": [],
      "source": [
        "from ibm_watson_machine_learning.foundation_models import Model\n",
        "model = Model(\n",
        "    model_id=model_id,\n",
        "    params=parameters,\n",
        "    credentials=credentials,\n",
        "    project_id=project_id\n",
        ")"
      ]
    },
    {
      "cell_type": "code",
      "execution_count": null,
      "metadata": {},
      "outputs": [],
      "source": [
        "user_prompt = input(\"Enter your story prompt:\\n\")\n",
        "\n",
        "full_prompt = f\"\"\"\n",
        "Write a complete, original, and engaging short story based on the prompt below.\n",
        "Avoid romance. Focus on suspense, mystery, science fiction, or adventure.\n",
        "\n",
        "Prompt: {user_prompt}\n",
        "\"\"\"\n",
        "\n",
        "response = model.generate_text(prompt=full_prompt)\n",
        "print(\"\\n\ud83d\udcd6 Generated Story:\\n\")\n",
        "print(response)"
      ]
    }
  ],
  "metadata": {
    "kernelspec": {
      "display_name": "Python 3",
      "language": "python",
      "name": "python3"
    },
    "language_info": {
      "name": "python",
      "version": "3.11"
    }
  },
  "nbformat": 4,
  "nbformat_minor": 5
}