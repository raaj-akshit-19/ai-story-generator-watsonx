# Install IBM Watson Machine Learning SDK
!pip install --upgrade "ibm-watson-machine-learning>=1.0.310" | tail -n 1

# Credentials and Project ID
credentials = {
    "url": "https://us-south.ml.cloud.ibm.com",
    "apikey": "se1cIzHrq3IRTo5G98rl8d-biJxg6WwgZ6fh_HbM4jda"
}
project_id = "39f9e1ef-1cc7-4c01-be80-c694258c61cd"

# Choose foundation model
model_id = "meta-llama/llama-3-3-70b-instruct"

# Set generation parameters
from ibm_watson_machine_learning.metanames import GenTextParamsMetaNames as GenParams
parameters = {
    GenParams.DECODING_METHOD: "sample",
    GenParams.MIN_NEW_TOKENS: 500,
    GenParams.MAX_NEW_TOKENS: 800,
    GenParams.TEMPERATURE: 0.85,
    GenParams.TOP_P: 0.9,
    GenParams.REPETITION_PENALTY: 1.1
}

# Load the model
from ibm_watson_machine_learning.foundation_models import Model
model = Model(
    model_id=model_id,
    params=parameters,
    credentials=credentials,
    project_id=project_id
)

# User prompt and story generation
user_prompt = input("Enter your story prompt:\n")
full_prompt = f"""
Write a complete, original, and engaging short story based on the prompt below.
Avoid romance. Focus on suspense, mystery, science fiction, or adventure.

Prompt: {user_prompt}
"""

# Generate and display the story
response = model.generate_text(prompt=full_prompt)
print("\n📖 Generated Story:\n")
print(response)
