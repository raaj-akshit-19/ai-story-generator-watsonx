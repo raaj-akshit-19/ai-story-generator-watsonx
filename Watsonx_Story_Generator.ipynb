# Install or upgrade IBM Watson Machine Learning SDK
!pip install --upgrade "ibm-watson-machine-learning>=1.0.310" -q

# ✅ Step 1: Secure credentials using environment variables
import os
from ibm_watson_machine_learning.foundation_models import Model
from ibm_watson_machine_learning.metanames import GenTextParamsMetaNames as GenParams
from ibm_watson_machine_learning.foundation_models.utils.enums import ModelTypes

# 🔐 Safely fetch credentials from environment (you must set these before running)
api_key = os.environ.get("WATSONX_API_KEY")
project_id = os.environ.get("WATSONX_PROJECT_ID")
if not api_key or not project_id:
    raise ValueError("❌ Environment variables WATSONX_API_KEY and WATSONX_PROJECT_ID must be set.")

credentials = {
    "url": "https://us-south.ml.cloud.ibm.com",
    "apikey": api_key
}

# 🧠 Step 2: Set model
model_id = "meta-llama/llama-3-3-70b-instruct"

# ⚙️ Step 3: Set generation parameters
parameters = {
    GenParams.DECODING_METHOD: "sample",
    GenParams.MIN_NEW_TOKENS: 500,
    GenParams.MAX_NEW_TOKENS: 800,
    GenParams.TEMPERATURE: 0.85,
    GenParams.TOP_P: 0.9,
    GenParams.REPETITION_PENALTY: 1.1
}

# 🧠 Step 4: Initialize model
model = Model(
    model_id=model_id,
    params=parameters,
    credentials=credentials,
    project_id=project_id
)

# 📝 Step 5: Take prompt and generate story
user_prompt = input("Enter your story prompt:\n")

full_prompt = f"""
Write a complete, original, and engaging short story based on the prompt below.
Avoid romance. Focus on suspense, mystery, science fiction, or adventure.

Prompt: {user_prompt}
"""

# 🚀 Step 6: Generate and display story
response = model.generate_text(prompt=full_prompt)
print("\n📖 Generated Story:\n")
print(response)
